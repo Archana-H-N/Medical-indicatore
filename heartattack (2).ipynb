{
 "cells": [
  {
   "cell_type": "markdown",
   "id": "f0982e7e-2bf9-4fe9-9d3c-801dc8c9b07b",
   "metadata": {},
   "source": [
    "# 1. Importing libraries and Dataset"
   ]
  },
  {
   "cell_type": "code",
   "execution_count": 8,
   "id": "081a8e6a-2eb9-4d0a-ac48-d131134a3481",
   "metadata": {},
   "outputs": [],
   "source": [
    "import pandas as pd\n",
    "import seaborn as sns\n",
    "import numpy as np\n",
    "import matplotlib.pyplot as plt"
   ]
  },
  {
   "cell_type": "code",
   "execution_count": 9,
   "id": "c29e235e-1d00-4c90-885f-cbd27af3cbb1",
   "metadata": {},
   "outputs": [],
   "source": [
    "df = pd.read_csv('Medicaldataset.csv')"
   ]
  },
  {
   "cell_type": "markdown",
   "id": "560cd7d0-cb42-48eb-b59e-7cb04e1b5fa9",
   "metadata": {},
   "source": [
    "# 2. Display top 5 rows of the dataset"
   ]
  },
  {
   "cell_type": "code",
   "execution_count": 10,
   "id": "64118c09-e616-4681-8619-ab8cf00b2e58",
   "metadata": {},
   "outputs": [
    {
     "data": {
      "text/html": [
       "<div>\n",
       "<style scoped>\n",
       "    .dataframe tbody tr th:only-of-type {\n",
       "        vertical-align: middle;\n",
       "    }\n",
       "\n",
       "    .dataframe tbody tr th {\n",
       "        vertical-align: top;\n",
       "    }\n",
       "\n",
       "    .dataframe thead th {\n",
       "        text-align: right;\n",
       "    }\n",
       "</style>\n",
       "<table border=\"1\" class=\"dataframe\">\n",
       "  <thead>\n",
       "    <tr style=\"text-align: right;\">\n",
       "      <th></th>\n",
       "      <th>Age</th>\n",
       "      <th>Gender</th>\n",
       "      <th>Heart rate</th>\n",
       "      <th>Systolic blood pressure</th>\n",
       "      <th>Diastolic blood pressure</th>\n",
       "      <th>Blood sugar</th>\n",
       "      <th>CK-MB</th>\n",
       "      <th>Troponin</th>\n",
       "      <th>Result</th>\n",
       "    </tr>\n",
       "  </thead>\n",
       "  <tbody>\n",
       "    <tr>\n",
       "      <th>0</th>\n",
       "      <td>63</td>\n",
       "      <td>male</td>\n",
       "      <td>74</td>\n",
       "      <td>223</td>\n",
       "      <td>118</td>\n",
       "      <td>161.0</td>\n",
       "      <td>2.970</td>\n",
       "      <td>0.628</td>\n",
       "      <td>positive</td>\n",
       "    </tr>\n",
       "    <tr>\n",
       "      <th>1</th>\n",
       "      <td>51</td>\n",
       "      <td>male</td>\n",
       "      <td>74</td>\n",
       "      <td>223</td>\n",
       "      <td>118</td>\n",
       "      <td>105.0</td>\n",
       "      <td>1.600</td>\n",
       "      <td>0.004</td>\n",
       "      <td>negative</td>\n",
       "    </tr>\n",
       "    <tr>\n",
       "      <th>2</th>\n",
       "      <td>29</td>\n",
       "      <td>female</td>\n",
       "      <td>74</td>\n",
       "      <td>223</td>\n",
       "      <td>118</td>\n",
       "      <td>86.0</td>\n",
       "      <td>4.930</td>\n",
       "      <td>0.003</td>\n",
       "      <td>positive</td>\n",
       "    </tr>\n",
       "    <tr>\n",
       "      <th>3</th>\n",
       "      <td>50</td>\n",
       "      <td>female</td>\n",
       "      <td>120</td>\n",
       "      <td>220</td>\n",
       "      <td>128</td>\n",
       "      <td>76.0</td>\n",
       "      <td>0.929</td>\n",
       "      <td>0.072</td>\n",
       "      <td>positive</td>\n",
       "    </tr>\n",
       "    <tr>\n",
       "      <th>4</th>\n",
       "      <td>60</td>\n",
       "      <td>male</td>\n",
       "      <td>110</td>\n",
       "      <td>220</td>\n",
       "      <td>128</td>\n",
       "      <td>101.0</td>\n",
       "      <td>1.280</td>\n",
       "      <td>0.002</td>\n",
       "      <td>negative</td>\n",
       "    </tr>\n",
       "  </tbody>\n",
       "</table>\n",
       "</div>"
      ],
      "text/plain": [
       "   Age  Gender  Heart rate  Systolic blood pressure  Diastolic blood pressure  \\\n",
       "0   63    male          74                      223                       118   \n",
       "1   51    male          74                      223                       118   \n",
       "2   29  female          74                      223                       118   \n",
       "3   50  female         120                      220                       128   \n",
       "4   60    male         110                      220                       128   \n",
       "\n",
       "   Blood sugar  CK-MB  Troponin    Result  \n",
       "0        161.0  2.970     0.628  positive  \n",
       "1        105.0  1.600     0.004  negative  \n",
       "2         86.0  4.930     0.003  positive  \n",
       "3         76.0  0.929     0.072  positive  \n",
       "4        101.0  1.280     0.002  negative  "
      ]
     },
     "execution_count": 10,
     "metadata": {},
     "output_type": "execute_result"
    }
   ],
   "source": [
    "df.head()"
   ]
  },
  {
   "cell_type": "code",
   "execution_count": 11,
   "id": "481f1314-54ea-4158-a2e4-70725e18d6d5",
   "metadata": {},
   "outputs": [],
   "source": [
    "# Normal Resting Heart Rate - 60–100 bpm (Beats Per Minute)\n",
    "# Systolic blood pressure – Top number in BP reading (mmHg). Normal range:90–120 mmHg.\n",
    "# Diastolic blood pressure – Bottom number in BP reading (mmHg).Normal range:60–80 mmHg.\n",
    "# Blood sugar – Measured in mg/dL.(milligrams per deciliter)\n",
    "# CK-MB – Creatine kinase-MB (ng/mL), a heart enzyme marker.(nanograms per milliliter)\n",
    "    # 5 ng/mL → Normal for most people.\n",
    "    # 5–10 ng/mL → Possible cardiac damage.\n",
    "    # 10–25 ng/mL or more → Often seen in heart attacks.\n",
    "# Troponin – A protein indicating heart muscle damage (ng/mL).\n",
    "    # 0.04 ng/mL is considered normal.\n",
    "    # 0.04–0.4 ng/mL could be borderline or minor damage.\n",
    "    # 0.4 ng/mL (especially much higher) usually suggests significant heart damage.\n",
    "# Result – Indicates if the case is 'positive' or 'negative' for heart disease."
   ]
  },
  {
   "cell_type": "markdown",
   "id": "8a5a07d9-7be3-4dc9-aa42-c84606c575ac",
   "metadata": {},
   "source": [
    "# 3. Shape of dataset"
   ]
  },
  {
   "cell_type": "code",
   "execution_count": 12,
   "id": "9b922006-d011-4c15-8713-d74e63402ba8",
   "metadata": {},
   "outputs": [
    {
     "name": "stdout",
     "output_type": "stream",
     "text": [
      "Number of Rows 1319\n",
      "Number of Columns 9\n"
     ]
    }
   ],
   "source": [
    "print(\"Number of Rows\", df.shape[0])\n",
    "print(\"Number of Columns\", df.shape[1])"
   ]
  },
  {
   "cell_type": "markdown",
   "id": "067f29bd-ff8d-4849-a8c5-387a06723c08",
   "metadata": {},
   "source": [
    "## 4. Get information Abount our Dataset like Total number of Rows, Number of Columns, Datatype of each columns and memory requirement"
   ]
  },
  {
   "cell_type": "code",
   "execution_count": 13,
   "id": "c314c45f-564d-481c-8699-32df8479438e",
   "metadata": {},
   "outputs": [
    {
     "name": "stdout",
     "output_type": "stream",
     "text": [
      "<class 'pandas.core.frame.DataFrame'>\n",
      "RangeIndex: 1319 entries, 0 to 1318\n",
      "Data columns (total 9 columns):\n",
      " #   Column                    Non-Null Count  Dtype  \n",
      "---  ------                    --------------  -----  \n",
      " 0   Age                       1319 non-null   int64  \n",
      " 1   Gender                    1319 non-null   object \n",
      " 2   Heart rate                1319 non-null   int64  \n",
      " 3   Systolic blood pressure   1319 non-null   int64  \n",
      " 4   Diastolic blood pressure  1319 non-null   int64  \n",
      " 5   Blood sugar               1319 non-null   float64\n",
      " 6   CK-MB                     1319 non-null   float64\n",
      " 7   Troponin                  1319 non-null   float64\n",
      " 8   Result                    1319 non-null   object \n",
      "dtypes: float64(3), int64(4), object(2)\n",
      "memory usage: 92.9+ KB\n"
     ]
    }
   ],
   "source": [
    "df.info()"
   ]
  },
  {
   "cell_type": "markdown",
   "id": "9e0e8342-fe36-4a44-b95b-e66b465b4600",
   "metadata": {},
   "source": [
    "# 5.Checking for Duplicated data"
   ]
  },
  {
   "cell_type": "code",
   "execution_count": 14,
   "id": "75b0a411-c129-4f47-95b5-55a59f4aeea1",
   "metadata": {},
   "outputs": [
    {
     "data": {
      "text/plain": [
       "False"
      ]
     },
     "execution_count": 14,
     "metadata": {},
     "output_type": "execute_result"
    }
   ],
   "source": [
    "dup=df.duplicated().any()\n",
    "dup"
   ]
  },
  {
   "cell_type": "markdown",
   "id": "de82e980-eb49-4560-8b5e-a70dad83756b",
   "metadata": {},
   "source": [
    "# 6. Get over all statistics about the dataset"
   ]
  },
  {
   "cell_type": "code",
   "execution_count": 15,
   "id": "2bce15b1-be8b-4079-98cf-7febc6fc41bb",
   "metadata": {},
   "outputs": [
    {
     "data": {
      "text/html": [
       "<div>\n",
       "<style scoped>\n",
       "    .dataframe tbody tr th:only-of-type {\n",
       "        vertical-align: middle;\n",
       "    }\n",
       "\n",
       "    .dataframe tbody tr th {\n",
       "        vertical-align: top;\n",
       "    }\n",
       "\n",
       "    .dataframe thead th {\n",
       "        text-align: right;\n",
       "    }\n",
       "</style>\n",
       "<table border=\"1\" class=\"dataframe\">\n",
       "  <thead>\n",
       "    <tr style=\"text-align: right;\">\n",
       "      <th></th>\n",
       "      <th>Age</th>\n",
       "      <th>Heart rate</th>\n",
       "      <th>Systolic blood pressure</th>\n",
       "      <th>Diastolic blood pressure</th>\n",
       "      <th>Blood sugar</th>\n",
       "      <th>CK-MB</th>\n",
       "      <th>Troponin</th>\n",
       "    </tr>\n",
       "  </thead>\n",
       "  <tbody>\n",
       "    <tr>\n",
       "      <th>count</th>\n",
       "      <td>1319.000000</td>\n",
       "      <td>1319.000000</td>\n",
       "      <td>1319.000000</td>\n",
       "      <td>1319.000000</td>\n",
       "      <td>1319.000000</td>\n",
       "      <td>1319.000000</td>\n",
       "      <td>1319.000000</td>\n",
       "    </tr>\n",
       "    <tr>\n",
       "      <th>mean</th>\n",
       "      <td>56.191812</td>\n",
       "      <td>76.062168</td>\n",
       "      <td>127.170584</td>\n",
       "      <td>72.269143</td>\n",
       "      <td>146.634344</td>\n",
       "      <td>7.261879</td>\n",
       "      <td>0.360942</td>\n",
       "    </tr>\n",
       "    <tr>\n",
       "      <th>std</th>\n",
       "      <td>13.647315</td>\n",
       "      <td>15.350456</td>\n",
       "      <td>26.122720</td>\n",
       "      <td>14.033924</td>\n",
       "      <td>74.923045</td>\n",
       "      <td>12.297596</td>\n",
       "      <td>1.154568</td>\n",
       "    </tr>\n",
       "    <tr>\n",
       "      <th>min</th>\n",
       "      <td>14.000000</td>\n",
       "      <td>20.000000</td>\n",
       "      <td>42.000000</td>\n",
       "      <td>38.000000</td>\n",
       "      <td>35.000000</td>\n",
       "      <td>0.321000</td>\n",
       "      <td>0.001000</td>\n",
       "    </tr>\n",
       "    <tr>\n",
       "      <th>25%</th>\n",
       "      <td>47.000000</td>\n",
       "      <td>64.000000</td>\n",
       "      <td>110.000000</td>\n",
       "      <td>62.000000</td>\n",
       "      <td>98.000000</td>\n",
       "      <td>1.655000</td>\n",
       "      <td>0.006000</td>\n",
       "    </tr>\n",
       "    <tr>\n",
       "      <th>50%</th>\n",
       "      <td>58.000000</td>\n",
       "      <td>74.000000</td>\n",
       "      <td>124.000000</td>\n",
       "      <td>72.000000</td>\n",
       "      <td>116.000000</td>\n",
       "      <td>2.850000</td>\n",
       "      <td>0.014000</td>\n",
       "    </tr>\n",
       "    <tr>\n",
       "      <th>75%</th>\n",
       "      <td>65.000000</td>\n",
       "      <td>85.000000</td>\n",
       "      <td>143.000000</td>\n",
       "      <td>81.000000</td>\n",
       "      <td>169.500000</td>\n",
       "      <td>5.805000</td>\n",
       "      <td>0.085500</td>\n",
       "    </tr>\n",
       "    <tr>\n",
       "      <th>max</th>\n",
       "      <td>103.000000</td>\n",
       "      <td>135.000000</td>\n",
       "      <td>223.000000</td>\n",
       "      <td>154.000000</td>\n",
       "      <td>541.000000</td>\n",
       "      <td>89.610000</td>\n",
       "      <td>10.300000</td>\n",
       "    </tr>\n",
       "  </tbody>\n",
       "</table>\n",
       "</div>"
      ],
      "text/plain": [
       "               Age   Heart rate  Systolic blood pressure  \\\n",
       "count  1319.000000  1319.000000              1319.000000   \n",
       "mean     56.191812    76.062168               127.170584   \n",
       "std      13.647315    15.350456                26.122720   \n",
       "min      14.000000    20.000000                42.000000   \n",
       "25%      47.000000    64.000000               110.000000   \n",
       "50%      58.000000    74.000000               124.000000   \n",
       "75%      65.000000    85.000000               143.000000   \n",
       "max     103.000000   135.000000               223.000000   \n",
       "\n",
       "       Diastolic blood pressure  Blood sugar        CK-MB     Troponin  \n",
       "count               1319.000000  1319.000000  1319.000000  1319.000000  \n",
       "mean                  72.269143   146.634344     7.261879     0.360942  \n",
       "std                   14.033924    74.923045    12.297596     1.154568  \n",
       "min                   38.000000    35.000000     0.321000     0.001000  \n",
       "25%                   62.000000    98.000000     1.655000     0.006000  \n",
       "50%                   72.000000   116.000000     2.850000     0.014000  \n",
       "75%                   81.000000   169.500000     5.805000     0.085500  \n",
       "max                  154.000000   541.000000    89.610000    10.300000  "
      ]
     },
     "execution_count": 15,
     "metadata": {},
     "output_type": "execute_result"
    }
   ],
   "source": [
    "df.describe()"
   ]
  },
  {
   "cell_type": "code",
   "execution_count": 16,
   "id": "1da4761a-54ea-44b0-b606-931923797e06",
   "metadata": {},
   "outputs": [
    {
     "data": {
      "text/html": [
       "<div>\n",
       "<style scoped>\n",
       "    .dataframe tbody tr th:only-of-type {\n",
       "        vertical-align: middle;\n",
       "    }\n",
       "\n",
       "    .dataframe tbody tr th {\n",
       "        vertical-align: top;\n",
       "    }\n",
       "\n",
       "    .dataframe thead th {\n",
       "        text-align: right;\n",
       "    }\n",
       "</style>\n",
       "<table border=\"1\" class=\"dataframe\">\n",
       "  <thead>\n",
       "    <tr style=\"text-align: right;\">\n",
       "      <th></th>\n",
       "      <th>Gender</th>\n",
       "      <th>Result</th>\n",
       "    </tr>\n",
       "  </thead>\n",
       "  <tbody>\n",
       "    <tr>\n",
       "      <th>count</th>\n",
       "      <td>1319</td>\n",
       "      <td>1319</td>\n",
       "    </tr>\n",
       "    <tr>\n",
       "      <th>unique</th>\n",
       "      <td>2</td>\n",
       "      <td>2</td>\n",
       "    </tr>\n",
       "    <tr>\n",
       "      <th>top</th>\n",
       "      <td>male</td>\n",
       "      <td>positive</td>\n",
       "    </tr>\n",
       "    <tr>\n",
       "      <th>freq</th>\n",
       "      <td>869</td>\n",
       "      <td>810</td>\n",
       "    </tr>\n",
       "  </tbody>\n",
       "</table>\n",
       "</div>"
      ],
      "text/plain": [
       "       Gender    Result\n",
       "count    1319      1319\n",
       "unique      2         2\n",
       "top      male  positive\n",
       "freq      869       810"
      ]
     },
     "execution_count": 16,
     "metadata": {},
     "output_type": "execute_result"
    }
   ],
   "source": [
    "df.describe(include='O')"
   ]
  },
  {
   "cell_type": "markdown",
   "id": "5168d2e8-44aa-484a-bd22-14a91d8fd023",
   "metadata": {},
   "source": [
    "## 7. How many people have heart disease and how many people don't have heart disease in this dataset"
   ]
  },
  {
   "cell_type": "code",
   "execution_count": 17,
   "id": "34163ed6-6f78-4e0f-9a7b-4031a378779e",
   "metadata": {},
   "outputs": [
    {
     "data": {
      "text/plain": [
       "Result\n",
       "positive    810\n",
       "negative    509\n",
       "Name: count, dtype: int64"
      ]
     },
     "execution_count": 17,
     "metadata": {},
     "output_type": "execute_result"
    }
   ],
   "source": [
    "df['Result'].value_counts()"
   ]
  },
  {
   "cell_type": "code",
   "execution_count": 18,
   "id": "1cd0322f-f708-4ce6-b564-4becef47fc1b",
   "metadata": {},
   "outputs": [
    {
     "data": {
      "image/png": "[encoded data removed]",
      "text/plain": [
       "<Figure size 640x480 with 1 Axes>"
      ]
     },
     "metadata": {},
     "output_type": "display_data"
    }
   ],
   "source": [
    "sns.countplot(x='Gender',hue=\"Result\", data=df)\n",
    "plt.title(\"Count of Positive vs Negative Results\")\n",
    "plt.xlabel(\"Result\")\n",
    "plt.ylabel(\"Number of Patients\")\n",
    "plt.show()"
   ]
  },
  {
   "cell_type": "markdown",
   "id": "f46b8d81-4269-4a48-bdc3-75bbc3eebbc3",
   "metadata": {},
   "source": [
    "# 8. What is the distribution of positive vs negative results by age group?"
   ]
  },
  {
   "cell_type": "code",
   "execution_count": 19,
   "id": "5f130e1a-9b30-4e9e-91f1-ce627360ab70",
   "metadata": {},
   "outputs": [
    {
     "data": {
      "image/png": "[encoded data removed]",
      "text/plain": [
       "<Figure size 1000x600 with 1 Axes>"
      ]
     },
     "metadata": {},
     "output_type": "display_data"
    }
   ],
   "source": [
    "age_result_counts = df.groupby(['Age', 'Result']).size().unstack(fill_value=0)\n",
    "age_result_counts.plot(kind='bar', stacked=True, figsize=(10,6), colormap='Set2')\n",
    "plt.title(\"Distribution of Positive vs Negative Results by Age\")\n",
    "plt.xlabel(\"Age\")\n",
    "plt.ylabel(\"Number of Cases\")\n",
    "plt.legend(title='Result')\n",
    "plt.tight_layout()\n",
    "plt.show()"
   ]
  },
  {
   "cell_type": "markdown",
   "id": "615d1d7a-da88-4e93-a34e-49cd2cc979c6",
   "metadata": {},
   "source": [
    "# 9. Posivite Results and Negative Results"
   ]
  },
  {
   "cell_type": "code",
   "execution_count": 20,
   "id": "05996295-a9f9-4564-a959-e38cdda88c80",
   "metadata": {},
   "outputs": [
    {
     "data": {
      "text/html": [
       "<div>\n",
       "<style scoped>\n",
       "    .dataframe tbody tr th:only-of-type {\n",
       "        vertical-align: middle;\n",
       "    }\n",
       "\n",
       "    .dataframe tbody tr th {\n",
       "        vertical-align: top;\n",
       "    }\n",
       "\n",
       "    .dataframe thead th {\n",
       "        text-align: right;\n",
       "    }\n",
       "</style>\n",
       "<table border=\"1\" class=\"dataframe\">\n",
       "  <thead>\n",
       "    <tr style=\"text-align: right;\">\n",
       "      <th></th>\n",
       "      <th>Age</th>\n",
       "      <th>Gender</th>\n",
       "      <th>Heart rate</th>\n",
       "      <th>Systolic blood pressure</th>\n",
       "      <th>Diastolic blood pressure</th>\n",
       "      <th>Blood sugar</th>\n",
       "      <th>CK-MB</th>\n",
       "      <th>Troponin</th>\n",
       "      <th>Result</th>\n",
       "    </tr>\n",
       "  </thead>\n",
       "  <tbody>\n",
       "    <tr>\n",
       "      <th>0</th>\n",
       "      <td>63</td>\n",
       "      <td>male</td>\n",
       "      <td>74</td>\n",
       "      <td>223</td>\n",
       "      <td>118</td>\n",
       "      <td>161.0</td>\n",
       "      <td>2.970</td>\n",
       "      <td>0.628</td>\n",
       "      <td>positive</td>\n",
       "    </tr>\n",
       "    <tr>\n",
       "      <th>2</th>\n",
       "      <td>29</td>\n",
       "      <td>female</td>\n",
       "      <td>74</td>\n",
       "      <td>223</td>\n",
       "      <td>118</td>\n",
       "      <td>86.0</td>\n",
       "      <td>4.930</td>\n",
       "      <td>0.003</td>\n",
       "      <td>positive</td>\n",
       "    </tr>\n",
       "    <tr>\n",
       "      <th>3</th>\n",
       "      <td>50</td>\n",
       "      <td>female</td>\n",
       "      <td>120</td>\n",
       "      <td>220</td>\n",
       "      <td>128</td>\n",
       "      <td>76.0</td>\n",
       "      <td>0.929</td>\n",
       "      <td>0.072</td>\n",
       "      <td>positive</td>\n",
       "    </tr>\n",
       "    <tr>\n",
       "      <th>5</th>\n",
       "      <td>63</td>\n",
       "      <td>male</td>\n",
       "      <td>60</td>\n",
       "      <td>214</td>\n",
       "      <td>82</td>\n",
       "      <td>87.0</td>\n",
       "      <td>30.000</td>\n",
       "      <td>2.370</td>\n",
       "      <td>positive</td>\n",
       "    </tr>\n",
       "    <tr>\n",
       "      <th>6</th>\n",
       "      <td>65</td>\n",
       "      <td>male</td>\n",
       "      <td>60</td>\n",
       "      <td>214</td>\n",
       "      <td>82</td>\n",
       "      <td>189.0</td>\n",
       "      <td>1.210</td>\n",
       "      <td>0.067</td>\n",
       "      <td>positive</td>\n",
       "    </tr>\n",
       "    <tr>\n",
       "      <th>...</th>\n",
       "      <td>...</td>\n",
       "      <td>...</td>\n",
       "      <td>...</td>\n",
       "      <td>...</td>\n",
       "      <td>...</td>\n",
       "      <td>...</td>\n",
       "      <td>...</td>\n",
       "      <td>...</td>\n",
       "      <td>...</td>\n",
       "    </tr>\n",
       "    <tr>\n",
       "      <th>1303</th>\n",
       "      <td>65</td>\n",
       "      <td>female</td>\n",
       "      <td>77</td>\n",
       "      <td>76</td>\n",
       "      <td>154</td>\n",
       "      <td>93.0</td>\n",
       "      <td>3.810</td>\n",
       "      <td>0.029</td>\n",
       "      <td>positive</td>\n",
       "    </tr>\n",
       "    <tr>\n",
       "      <th>1304</th>\n",
       "      <td>65</td>\n",
       "      <td>female</td>\n",
       "      <td>62</td>\n",
       "      <td>76</td>\n",
       "      <td>55</td>\n",
       "      <td>107.0</td>\n",
       "      <td>1.680</td>\n",
       "      <td>0.024</td>\n",
       "      <td>positive</td>\n",
       "    </tr>\n",
       "    <tr>\n",
       "      <th>1305</th>\n",
       "      <td>65</td>\n",
       "      <td>female</td>\n",
       "      <td>62</td>\n",
       "      <td>76</td>\n",
       "      <td>55</td>\n",
       "      <td>113.0</td>\n",
       "      <td>1.670</td>\n",
       "      <td>0.023</td>\n",
       "      <td>positive</td>\n",
       "    </tr>\n",
       "    <tr>\n",
       "      <th>1314</th>\n",
       "      <td>57</td>\n",
       "      <td>female</td>\n",
       "      <td>61</td>\n",
       "      <td>67</td>\n",
       "      <td>80</td>\n",
       "      <td>204.0</td>\n",
       "      <td>33.090</td>\n",
       "      <td>0.003</td>\n",
       "      <td>positive</td>\n",
       "    </tr>\n",
       "    <tr>\n",
       "      <th>1317</th>\n",
       "      <td>40</td>\n",
       "      <td>male</td>\n",
       "      <td>80</td>\n",
       "      <td>65</td>\n",
       "      <td>53</td>\n",
       "      <td>139.0</td>\n",
       "      <td>19.700</td>\n",
       "      <td>0.003</td>\n",
       "      <td>positive</td>\n",
       "    </tr>\n",
       "  </tbody>\n",
       "</table>\n",
       "<p>810 rows × 9 columns</p>\n",
       "</div>"
      ],
      "text/plain": [
       "      Age  Gender  Heart rate  Systolic blood pressure  \\\n",
       "0      63    male          74                      223   \n",
       "2      29  female          74                      223   \n",
       "3      50  female         120                      220   \n",
       "5      63    male          60                      214   \n",
       "6      65    male          60                      214   \n",
       "...   ...     ...         ...                      ...   \n",
       "1303   65  female          77                       76   \n",
       "1304   65  female          62                       76   \n",
       "1305   65  female          62                       76   \n",
       "1314   57  female          61                       67   \n",
       "1317   40    male          80                       65   \n",
       "\n",
       "      Diastolic blood pressure  Blood sugar   CK-MB  Troponin    Result  \n",
       "0                          118        161.0   2.970     0.628  positive  \n",
       "2                          118         86.0   4.930     0.003  positive  \n",
       "3                          128         76.0   0.929     0.072  positive  \n",
       "5                           82         87.0  30.000     2.370  positive  \n",
       "6                           82        189.0   1.210     0.067  positive  \n",
       "...                        ...          ...     ...       ...       ...  \n",
       "1303                       154         93.0   3.810     0.029  positive  \n",
       "1304                        55        107.0   1.680     0.024  positive  \n",
       "1305                        55        113.0   1.670     0.023  positive  \n",
       "1314                        80        204.0  33.090     0.003  positive  \n",
       "1317                        53        139.0  19.700     0.003  positive  \n",
       "\n",
       "[810 rows x 9 columns]"
      ]
     },
     "execution_count": 20,
     "metadata": {},
     "output_type": "execute_result"
    }
   ],
   "source": [
    "positive_result=df.loc[df[\"Result\"]==\"positive\"]\n",
    "positive_result"
   ]
  },
  {
   "cell_type": "code",
   "execution_count": 21,
   "id": "dbb92c55-4225-4bdc-a0e8-118a7800f748",
   "metadata": {},
   "outputs": [
    {
     "data": {
      "text/html": [
       "<div>\n",
       "<style scoped>\n",
       "    .dataframe tbody tr th:only-of-type {\n",
       "        vertical-align: middle;\n",
       "    }\n",
       "\n",
       "    .dataframe tbody tr th {\n",
       "        vertical-align: top;\n",
       "    }\n",
       "\n",
       "    .dataframe thead th {\n",
       "        text-align: right;\n",
       "    }\n",
       "</style>\n",
       "<table border=\"1\" class=\"dataframe\">\n",
       "  <thead>\n",
       "    <tr style=\"text-align: right;\">\n",
       "      <th></th>\n",
       "      <th>Gender</th>\n",
       "      <th>Result</th>\n",
       "    </tr>\n",
       "  </thead>\n",
       "  <tbody>\n",
       "    <tr>\n",
       "      <th>count</th>\n",
       "      <td>810</td>\n",
       "      <td>810</td>\n",
       "    </tr>\n",
       "    <tr>\n",
       "      <th>unique</th>\n",
       "      <td>2</td>\n",
       "      <td>1</td>\n",
       "    </tr>\n",
       "    <tr>\n",
       "      <th>top</th>\n",
       "      <td>male</td>\n",
       "      <td>positive</td>\n",
       "    </tr>\n",
       "    <tr>\n",
       "      <th>freq</th>\n",
       "      <td>532</td>\n",
       "      <td>810</td>\n",
       "    </tr>\n",
       "  </tbody>\n",
       "</table>\n",
       "</div>"
      ],
      "text/plain": [
       "       Gender    Result\n",
       "count     810       810\n",
       "unique      2         1\n",
       "top      male  positive\n",
       "freq      532       810"
      ]
     },
     "execution_count": 21,
     "metadata": {},
     "output_type": "execute_result"
    }
   ],
   "source": [
    "positive_result.describe(include='O')"
   ]
  },
  {
   "cell_type": "code",
   "execution_count": 22,
   "id": "1561b4dc-0dfa-48e0-8e08-963d66267dd0",
   "metadata": {},
   "outputs": [
    {
     "data": {
      "text/html": [
       "<div>\n",
       "<style scoped>\n",
       "    .dataframe tbody tr th:only-of-type {\n",
       "        vertical-align: middle;\n",
       "    }\n",
       "\n",
       "    .dataframe tbody tr th {\n",
       "        vertical-align: top;\n",
       "    }\n",
       "\n",
       "    .dataframe thead th {\n",
       "        text-align: right;\n",
       "    }\n",
       "</style>\n",
       "<table border=\"1\" class=\"dataframe\">\n",
       "  <thead>\n",
       "    <tr style=\"text-align: right;\">\n",
       "      <th></th>\n",
       "      <th>Gender</th>\n",
       "      <th>Result</th>\n",
       "    </tr>\n",
       "  </thead>\n",
       "  <tbody>\n",
       "    <tr>\n",
       "      <th>count</th>\n",
       "      <td>509</td>\n",
       "      <td>509</td>\n",
       "    </tr>\n",
       "    <tr>\n",
       "      <th>unique</th>\n",
       "      <td>2</td>\n",
       "      <td>1</td>\n",
       "    </tr>\n",
       "    <tr>\n",
       "      <th>top</th>\n",
       "      <td>male</td>\n",
       "      <td>negative</td>\n",
       "    </tr>\n",
       "    <tr>\n",
       "      <th>freq</th>\n",
       "      <td>337</td>\n",
       "      <td>509</td>\n",
       "    </tr>\n",
       "  </tbody>\n",
       "</table>\n",
       "</div>"
      ],
      "text/plain": [
       "       Gender    Result\n",
       "count     509       509\n",
       "unique      2         1\n",
       "top      male  negative\n",
       "freq      337       509"
      ]
     },
     "execution_count": 22,
     "metadata": {},
     "output_type": "execute_result"
    }
   ],
   "source": [
    "negative_result=df.loc[df[\"Result\"]==\"negative\"]\n",
    "negative_result.describe(include='O')"
   ]
  },
  {
   "cell_type": "markdown",
   "id": "ae17ac95-9722-40d1-aebb-e4bcef282afe",
   "metadata": {},
   "source": [
    "# 10. Checking age distribution positive people in this dataset"
   ]
  },
  {
   "cell_type": "code",
   "execution_count": 23,
   "id": "0dec391b-32bd-4066-863d-3c0c32dd8070",
   "metadata": {},
   "outputs": [
    {
     "data": {
      "image/png": "[encoded data removed]",
      "text/plain": [
       "<Figure size 640x480 with 1 Axes>"
      ]
     },
     "metadata": {},
     "output_type": "display_data"
    }
   ],
   "source": [
    "sns.histplot(x=\"Age\",data=positive_result,kde=True)\n",
    "plt.show()"
   ]
  },
  {
   "cell_type": "markdown",
   "id": "ba03c71b-9afb-42a3-8c85-06ec99d9b6a2",
   "metadata": {},
   "source": [
    "# 11. Heart Rate"
   ]
  },
  {
   "cell_type": "code",
   "execution_count": 24,
   "id": "100fb3e3-2117-41fc-8d4e-68ef6829eb1e",
   "metadata": {},
   "outputs": [
    {
     "data": {
      "text/plain": [
       "count    810.000000\n",
       "mean      76.150617\n",
       "std       15.644206\n",
       "min       20.000000\n",
       "25%       64.000000\n",
       "50%       74.000000\n",
       "75%       85.750000\n",
       "max      135.000000\n",
       "Name: Heart rate, dtype: float64"
      ]
     },
     "execution_count": 24,
     "metadata": {},
     "output_type": "execute_result"
    }
   ],
   "source": [
    "positive_hr = df[df['Result'] == 'positive']['Heart rate']\n",
    "positive_hr.describe()"
   ]
  },
  {
   "cell_type": "code",
   "execution_count": 25,
   "id": "1511768c-aca6-4ba7-a066-a101433b0437",
   "metadata": {},
   "outputs": [
    {
     "data": {
      "text/plain": [
       "count    509.000000\n",
       "mean      75.921415\n",
       "std       14.885181\n",
       "min       20.000000\n",
       "25%       64.000000\n",
       "50%       75.000000\n",
       "75%       84.000000\n",
       "max      132.000000\n",
       "Name: Heart rate, dtype: float64"
      ]
     },
     "execution_count": 25,
     "metadata": {},
     "output_type": "execute_result"
    }
   ],
   "source": [
    "negative_hr = df[df['Result'] == 'negative']['Heart rate']\n",
    "negative_hr.describe()"
   ]
  },
  {
   "cell_type": "code",
   "execution_count": 26,
   "id": "ccfaeeb0-ee69-4da4-8450-b5e2af3710d5",
   "metadata": {},
   "outputs": [
    {
     "data": {
      "image/png": "[encoded data removed]",
      "text/plain": [
       "<Figure size 640x480 with 1 Axes>"
      ]
     },
     "metadata": {},
     "output_type": "display_data"
    }
   ],
   "source": [
    "sns.histplot(positive_hr, bins=30, kde=True, color='green')\n",
    "plt.title(\"Heart Rate Distribution in Positive Cases\")\n",
    "plt.xlabel(\"Heart Rate (bpm)\")\n",
    "plt.ylabel(\"Number of Patients\")\n",
    "plt.show()"
   ]
  },
  {
   "cell_type": "code",
   "execution_count": 27,
   "id": "ba336d34-70dd-443b-8241-b4eb01e98693",
   "metadata": {},
   "outputs": [
    {
     "data": {
      "image/png": "[encoded data removed]",
      "text/plain": [
       "<Figure size 640x480 with 1 Axes>"
      ]
     },
     "metadata": {},
     "output_type": "display_data"
    }
   ],
   "source": [
    "sns.histplot(negative_hr, bins=30, kde=True, color='green')\n",
    "plt.title(\"Heart Rate Distribution in Positive Cases\")\n",
    "plt.xlabel(\"Heart Rate (bpm)\")\n",
    "plt.ylabel(\"Number of Patients\")\n",
    "plt.show()"
   ]
  },
  {
   "cell_type": "markdown",
   "id": "397a9cfe-f25a-43c0-864a-17fe1689d894",
   "metadata": {},
   "source": [
    "# 12. Top number in BP reading and Bottom number in BP reading for positive people"
   ]
  },
  {
   "cell_type": "code",
   "execution_count": 28,
   "id": "e90ff71e-f805-4367-a520-afc2627659b6",
   "metadata": {},
   "outputs": [
    {
     "data": {
      "text/html": [
       "<div>\n",
       "<style scoped>\n",
       "    .dataframe tbody tr th:only-of-type {\n",
       "        vertical-align: middle;\n",
       "    }\n",
       "\n",
       "    .dataframe tbody tr th {\n",
       "        vertical-align: top;\n",
       "    }\n",
       "\n",
       "    .dataframe thead th {\n",
       "        text-align: right;\n",
       "    }\n",
       "</style>\n",
       "<table border=\"1\" class=\"dataframe\">\n",
       "  <thead>\n",
       "    <tr style=\"text-align: right;\">\n",
       "      <th></th>\n",
       "      <th>Age</th>\n",
       "      <th>Heart rate</th>\n",
       "      <th>Systolic blood pressure</th>\n",
       "      <th>Diastolic blood pressure</th>\n",
       "      <th>Blood sugar</th>\n",
       "      <th>CK-MB</th>\n",
       "      <th>Troponin</th>\n",
       "    </tr>\n",
       "  </thead>\n",
       "  <tbody>\n",
       "    <tr>\n",
       "      <th>count</th>\n",
       "      <td>450.000000</td>\n",
       "      <td>450.000000</td>\n",
       "      <td>450.000000</td>\n",
       "      <td>450.000000</td>\n",
       "      <td>450.000000</td>\n",
       "      <td>450.000000</td>\n",
       "      <td>450.000000</td>\n",
       "    </tr>\n",
       "    <tr>\n",
       "      <th>mean</th>\n",
       "      <td>59.135556</td>\n",
       "      <td>76.248889</td>\n",
       "      <td>141.728889</td>\n",
       "      <td>77.528889</td>\n",
       "      <td>145.382222</td>\n",
       "      <td>10.037960</td>\n",
       "      <td>0.599727</td>\n",
       "    </tr>\n",
       "    <tr>\n",
       "      <th>std</th>\n",
       "      <td>13.149367</td>\n",
       "      <td>14.614583</td>\n",
       "      <td>24.620999</td>\n",
       "      <td>14.439500</td>\n",
       "      <td>72.663612</td>\n",
       "      <td>15.360603</td>\n",
       "      <td>1.416567</td>\n",
       "    </tr>\n",
       "    <tr>\n",
       "      <th>min</th>\n",
       "      <td>20.000000</td>\n",
       "      <td>40.000000</td>\n",
       "      <td>65.000000</td>\n",
       "      <td>38.000000</td>\n",
       "      <td>50.000000</td>\n",
       "      <td>0.452000</td>\n",
       "      <td>0.003000</td>\n",
       "    </tr>\n",
       "    <tr>\n",
       "      <th>25%</th>\n",
       "      <td>51.000000</td>\n",
       "      <td>64.000000</td>\n",
       "      <td>128.000000</td>\n",
       "      <td>68.000000</td>\n",
       "      <td>99.000000</td>\n",
       "      <td>1.882500</td>\n",
       "      <td>0.017000</td>\n",
       "    </tr>\n",
       "    <tr>\n",
       "      <th>50%</th>\n",
       "      <td>60.000000</td>\n",
       "      <td>75.000000</td>\n",
       "      <td>139.000000</td>\n",
       "      <td>78.000000</td>\n",
       "      <td>116.000000</td>\n",
       "      <td>3.635000</td>\n",
       "      <td>0.047000</td>\n",
       "    </tr>\n",
       "    <tr>\n",
       "      <th>75%</th>\n",
       "      <td>68.000000</td>\n",
       "      <td>84.750000</td>\n",
       "      <td>153.000000</td>\n",
       "      <td>85.000000</td>\n",
       "      <td>167.000000</td>\n",
       "      <td>10.300000</td>\n",
       "      <td>0.534500</td>\n",
       "    </tr>\n",
       "    <tr>\n",
       "      <th>max</th>\n",
       "      <td>103.000000</td>\n",
       "      <td>132.000000</td>\n",
       "      <td>223.000000</td>\n",
       "      <td>154.000000</td>\n",
       "      <td>500.000000</td>\n",
       "      <td>89.610000</td>\n",
       "      <td>10.300000</td>\n",
       "    </tr>\n",
       "  </tbody>\n",
       "</table>\n",
       "</div>"
      ],
      "text/plain": [
       "              Age  Heart rate  Systolic blood pressure  \\\n",
       "count  450.000000  450.000000               450.000000   \n",
       "mean    59.135556   76.248889               141.728889   \n",
       "std     13.149367   14.614583                24.620999   \n",
       "min     20.000000   40.000000                65.000000   \n",
       "25%     51.000000   64.000000               128.000000   \n",
       "50%     60.000000   75.000000               139.000000   \n",
       "75%     68.000000   84.750000               153.000000   \n",
       "max    103.000000  132.000000               223.000000   \n",
       "\n",
       "       Diastolic blood pressure  Blood sugar       CK-MB    Troponin  \n",
       "count                450.000000   450.000000  450.000000  450.000000  \n",
       "mean                  77.528889   145.382222   10.037960    0.599727  \n",
       "std                   14.439500    72.663612   15.360603    1.416567  \n",
       "min                   38.000000    50.000000    0.452000    0.003000  \n",
       "25%                   68.000000    99.000000    1.882500    0.017000  \n",
       "50%                   78.000000   116.000000    3.635000    0.047000  \n",
       "75%                   85.000000   167.000000   10.300000    0.534500  \n",
       "max                  154.000000   500.000000   89.610000   10.300000  "
      ]
     },
     "execution_count": 28,
     "metadata": {},
     "output_type": "execute_result"
    }
   ],
   "source": [
    "Top_BP_Pos=positive_result.loc[(positive_result[\"Systolic blood pressure\"]<90) |(positive_result[\"Systolic blood pressure\"]>120)]\n",
    "Top_BP_Pos.describe()"
   ]
  },
  {
   "cell_type": "code",
   "execution_count": 29,
   "id": "a40e0df2-453a-4643-8c32-6e7bd7b00d51",
   "metadata": {},
   "outputs": [
    {
     "data": {
      "text/html": [
       "<div>\n",
       "<style scoped>\n",
       "    .dataframe tbody tr th:only-of-type {\n",
       "        vertical-align: middle;\n",
       "    }\n",
       "\n",
       "    .dataframe tbody tr th {\n",
       "        vertical-align: top;\n",
       "    }\n",
       "\n",
       "    .dataframe thead th {\n",
       "        text-align: right;\n",
       "    }\n",
       "</style>\n",
       "<table border=\"1\" class=\"dataframe\">\n",
       "  <thead>\n",
       "    <tr style=\"text-align: right;\">\n",
       "      <th></th>\n",
       "      <th>Age</th>\n",
       "      <th>Heart rate</th>\n",
       "      <th>Systolic blood pressure</th>\n",
       "      <th>Diastolic blood pressure</th>\n",
       "      <th>Blood sugar</th>\n",
       "      <th>CK-MB</th>\n",
       "      <th>Troponin</th>\n",
       "    </tr>\n",
       "  </thead>\n",
       "  <tbody>\n",
       "    <tr>\n",
       "      <th>count</th>\n",
       "      <td>334.000000</td>\n",
       "      <td>334.000000</td>\n",
       "      <td>334.00000</td>\n",
       "      <td>334.000000</td>\n",
       "      <td>334.000000</td>\n",
       "      <td>334.000000</td>\n",
       "      <td>334.000000</td>\n",
       "    </tr>\n",
       "    <tr>\n",
       "      <th>mean</th>\n",
       "      <td>58.553892</td>\n",
       "      <td>76.032934</td>\n",
       "      <td>132.38024</td>\n",
       "      <td>74.332335</td>\n",
       "      <td>141.940120</td>\n",
       "      <td>10.527171</td>\n",
       "      <td>0.559503</td>\n",
       "    </tr>\n",
       "    <tr>\n",
       "      <th>std</th>\n",
       "      <td>13.394738</td>\n",
       "      <td>14.073876</td>\n",
       "      <td>31.68078</td>\n",
       "      <td>20.083318</td>\n",
       "      <td>69.120707</td>\n",
       "      <td>16.501550</td>\n",
       "      <td>1.273892</td>\n",
       "    </tr>\n",
       "    <tr>\n",
       "      <th>min</th>\n",
       "      <td>21.000000</td>\n",
       "      <td>20.000000</td>\n",
       "      <td>65.00000</td>\n",
       "      <td>38.000000</td>\n",
       "      <td>75.000000</td>\n",
       "      <td>0.353000</td>\n",
       "      <td>0.003000</td>\n",
       "    </tr>\n",
       "    <tr>\n",
       "      <th>25%</th>\n",
       "      <td>49.250000</td>\n",
       "      <td>64.000000</td>\n",
       "      <td>107.50000</td>\n",
       "      <td>55.000000</td>\n",
       "      <td>97.000000</td>\n",
       "      <td>1.785000</td>\n",
       "      <td>0.018250</td>\n",
       "    </tr>\n",
       "    <tr>\n",
       "      <th>50%</th>\n",
       "      <td>60.000000</td>\n",
       "      <td>76.000000</td>\n",
       "      <td>131.50000</td>\n",
       "      <td>82.000000</td>\n",
       "      <td>114.000000</td>\n",
       "      <td>3.430000</td>\n",
       "      <td>0.051000</td>\n",
       "    </tr>\n",
       "    <tr>\n",
       "      <th>75%</th>\n",
       "      <td>68.000000</td>\n",
       "      <td>86.000000</td>\n",
       "      <td>150.00000</td>\n",
       "      <td>89.000000</td>\n",
       "      <td>161.750000</td>\n",
       "      <td>10.322500</td>\n",
       "      <td>0.489250</td>\n",
       "    </tr>\n",
       "    <tr>\n",
       "      <th>max</th>\n",
       "      <td>103.000000</td>\n",
       "      <td>125.000000</td>\n",
       "      <td>223.00000</td>\n",
       "      <td>154.000000</td>\n",
       "      <td>434.000000</td>\n",
       "      <td>89.610000</td>\n",
       "      <td>10.000000</td>\n",
       "    </tr>\n",
       "  </tbody>\n",
       "</table>\n",
       "</div>"
      ],
      "text/plain": [
       "              Age  Heart rate  Systolic blood pressure  \\\n",
       "count  334.000000  334.000000                334.00000   \n",
       "mean    58.553892   76.032934                132.38024   \n",
       "std     13.394738   14.073876                 31.68078   \n",
       "min     21.000000   20.000000                 65.00000   \n",
       "25%     49.250000   64.000000                107.50000   \n",
       "50%     60.000000   76.000000                131.50000   \n",
       "75%     68.000000   86.000000                150.00000   \n",
       "max    103.000000  125.000000                223.00000   \n",
       "\n",
       "       Diastolic blood pressure  Blood sugar       CK-MB    Troponin  \n",
       "count                334.000000   334.000000  334.000000  334.000000  \n",
       "mean                  74.332335   141.940120   10.527171    0.559503  \n",
       "std                   20.083318    69.120707   16.501550    1.273892  \n",
       "min                   38.000000    75.000000    0.353000    0.003000  \n",
       "25%                   55.000000    97.000000    1.785000    0.018250  \n",
       "50%                   82.000000   114.000000    3.430000    0.051000  \n",
       "75%                   89.000000   161.750000   10.322500    0.489250  \n",
       "max                  154.000000   434.000000   89.610000   10.000000  "
      ]
     },
     "execution_count": 29,
     "metadata": {},
     "output_type": "execute_result"
    }
   ],
   "source": [
    "Btm_BP_pos=positive_result.loc[(positive_result[\"Diastolic blood pressure\"]<60) |(positive_result[\"Diastolic blood pressure\"]>80)]\n",
    "Btm_BP_pos.describe(include='O')"
   ]
  },
  {
   "cell_type": "markdown",
   "id": "e9b60a96-b4fc-4172-be96-8b62a2ab36a8",
   "metadata": {},
   "source": [
    "# 13. Top number in BP reading and Bottom number in BP reading for Negative people"
   ]
  },
  {
   "cell_type": "code",
   "execution_count": 45,
   "id": "ae5462fa-a5e3-4871-a6a7-9203541909f5",
   "metadata": {},
   "outputs": [
    {
     "data": {
      "text/html": [
       "<div>\n",
       "<style scoped>\n",
       "    .dataframe tbody tr th:only-of-type {\n",
       "        vertical-align: middle;\n",
       "    }\n",
       "\n",
       "    .dataframe tbody tr th {\n",
       "        vertical-align: top;\n",
       "    }\n",
       "\n",
       "    .dataframe thead th {\n",
       "        text-align: right;\n",
       "    }\n",
       "</style>\n",
       "<table border=\"1\" class=\"dataframe\">\n",
       "  <thead>\n",
       "    <tr style=\"text-align: right;\">\n",
       "      <th></th>\n",
       "      <th>Gender</th>\n",
       "      <th>Result</th>\n",
       "    </tr>\n",
       "  </thead>\n",
       "  <tbody>\n",
       "    <tr>\n",
       "      <th>count</th>\n",
       "      <td>320</td>\n",
       "      <td>320</td>\n",
       "    </tr>\n",
       "    <tr>\n",
       "      <th>unique</th>\n",
       "      <td>2</td>\n",
       "      <td>1</td>\n",
       "    </tr>\n",
       "    <tr>\n",
       "      <th>top</th>\n",
       "      <td>male</td>\n",
       "      <td>negative</td>\n",
       "    </tr>\n",
       "    <tr>\n",
       "      <th>freq</th>\n",
       "      <td>217</td>\n",
       "      <td>320</td>\n",
       "    </tr>\n",
       "  </tbody>\n",
       "</table>\n",
       "</div>"
      ],
      "text/plain": [
       "       Gender    Result\n",
       "count     320       320\n",
       "unique      2         1\n",
       "top      male  negative\n",
       "freq      217       320"
      ]
     },
     "execution_count": 45,
     "metadata": {},
     "output_type": "execute_result"
    }
   ],
   "source": [
    "Top_BP_Nag=negative_result.loc[(negative_result[\"Systolic blood pressure\"]<90) | (negative_result[\"Systolic blood pressure\"]>120)]\n",
    "Top_BP_Nag.describe(include='O')"
   ]
  },
  {
   "cell_type": "code",
   "execution_count": 44,
   "id": "0cbe06a1-d32c-469e-8e9a-48552dbfb235",
   "metadata": {},
   "outputs": [
    {
     "data": {
      "text/html": [
       "<div>\n",
       "<style scoped>\n",
       "    .dataframe tbody tr th:only-of-type {\n",
       "        vertical-align: middle;\n",
       "    }\n",
       "\n",
       "    .dataframe tbody tr th {\n",
       "        vertical-align: top;\n",
       "    }\n",
       "\n",
       "    .dataframe thead th {\n",
       "        text-align: right;\n",
       "    }\n",
       "</style>\n",
       "<table border=\"1\" class=\"dataframe\">\n",
       "  <thead>\n",
       "    <tr style=\"text-align: right;\">\n",
       "      <th></th>\n",
       "      <th>Gender</th>\n",
       "      <th>Result</th>\n",
       "    </tr>\n",
       "  </thead>\n",
       "  <tbody>\n",
       "    <tr>\n",
       "      <th>count</th>\n",
       "      <td>253</td>\n",
       "      <td>253</td>\n",
       "    </tr>\n",
       "    <tr>\n",
       "      <th>unique</th>\n",
       "      <td>2</td>\n",
       "      <td>1</td>\n",
       "    </tr>\n",
       "    <tr>\n",
       "      <th>top</th>\n",
       "      <td>male</td>\n",
       "      <td>negative</td>\n",
       "    </tr>\n",
       "    <tr>\n",
       "      <th>freq</th>\n",
       "      <td>170</td>\n",
       "      <td>253</td>\n",
       "    </tr>\n",
       "  </tbody>\n",
       "</table>\n",
       "</div>"
      ],
      "text/plain": [
       "       Gender    Result\n",
       "count     253       253\n",
       "unique      2         1\n",
       "top      male  negative\n",
       "freq      170       253"
      ]
     },
     "execution_count": 44,
     "metadata": {},
     "output_type": "execute_result"
    }
   ],
   "source": [
    "Btm_BP_Nag=negative_result.loc[(negative_result[\"Diastolic blood pressure\"]<60) |(negative_result[\"Diastolic blood pressure\"]>80)]\n",
    "Btm_BP_Nag.describe(include='O')"
   ]
  },
  {
   "cell_type": "markdown",
   "id": "399f2db7-a5e2-4135-af79-08912191753a",
   "metadata": {},
   "source": [
    "# 14. Checking Blood Sugar reading for positive people and for Negative people"
   ]
  },
  {
   "cell_type": "code",
   "execution_count": 39,
   "id": "c329a292-695f-4ae6-bdd5-f99b72ce184d",
   "metadata": {},
   "outputs": [
    {
     "data": {
      "text/html": [
       "<div>\n",
       "<style scoped>\n",
       "    .dataframe tbody tr th:only-of-type {\n",
       "        vertical-align: middle;\n",
       "    }\n",
       "\n",
       "    .dataframe tbody tr th {\n",
       "        vertical-align: top;\n",
       "    }\n",
       "\n",
       "    .dataframe thead th {\n",
       "        text-align: right;\n",
       "    }\n",
       "</style>\n",
       "<table border=\"1\" class=\"dataframe\">\n",
       "  <thead>\n",
       "    <tr style=\"text-align: right;\">\n",
       "      <th></th>\n",
       "      <th>Gender</th>\n",
       "      <th>Result</th>\n",
       "    </tr>\n",
       "  </thead>\n",
       "  <tbody>\n",
       "    <tr>\n",
       "      <th>count</th>\n",
       "      <td>139</td>\n",
       "      <td>139</td>\n",
       "    </tr>\n",
       "    <tr>\n",
       "      <th>unique</th>\n",
       "      <td>2</td>\n",
       "      <td>1</td>\n",
       "    </tr>\n",
       "    <tr>\n",
       "      <th>top</th>\n",
       "      <td>male</td>\n",
       "      <td>positive</td>\n",
       "    </tr>\n",
       "    <tr>\n",
       "      <th>freq</th>\n",
       "      <td>106</td>\n",
       "      <td>139</td>\n",
       "    </tr>\n",
       "  </tbody>\n",
       "</table>\n",
       "</div>"
      ],
      "text/plain": [
       "       Gender    Result\n",
       "count     139       139\n",
       "unique      2         1\n",
       "top      male  positive\n",
       "freq      106       139"
      ]
     },
     "execution_count": 39,
     "metadata": {},
     "output_type": "execute_result"
    }
   ],
   "source": [
    "Bld_suger1=positive_result.loc[(positive_result[\"Blood sugar\"]>200)]\n",
    "Bld_suger1.describe(include='O')"
   ]
  },
  {
   "cell_type": "code",
   "execution_count": 40,
   "id": "57c4761a-8b6f-4d3a-91ac-476a210e006a",
   "metadata": {},
   "outputs": [
    {
     "data": {
      "text/html": [
       "<div>\n",
       "<style scoped>\n",
       "    .dataframe tbody tr th:only-of-type {\n",
       "        vertical-align: middle;\n",
       "    }\n",
       "\n",
       "    .dataframe tbody tr th {\n",
       "        vertical-align: top;\n",
       "    }\n",
       "\n",
       "    .dataframe thead th {\n",
       "        text-align: right;\n",
       "    }\n",
       "</style>\n",
       "<table border=\"1\" class=\"dataframe\">\n",
       "  <thead>\n",
       "    <tr style=\"text-align: right;\">\n",
       "      <th></th>\n",
       "      <th>Gender</th>\n",
       "      <th>Result</th>\n",
       "    </tr>\n",
       "  </thead>\n",
       "  <tbody>\n",
       "    <tr>\n",
       "      <th>count</th>\n",
       "      <td>101</td>\n",
       "      <td>101</td>\n",
       "    </tr>\n",
       "    <tr>\n",
       "      <th>unique</th>\n",
       "      <td>2</td>\n",
       "      <td>1</td>\n",
       "    </tr>\n",
       "    <tr>\n",
       "      <th>top</th>\n",
       "      <td>male</td>\n",
       "      <td>negative</td>\n",
       "    </tr>\n",
       "    <tr>\n",
       "      <th>freq</th>\n",
       "      <td>56</td>\n",
       "      <td>101</td>\n",
       "    </tr>\n",
       "  </tbody>\n",
       "</table>\n",
       "</div>"
      ],
      "text/plain": [
       "       Gender    Result\n",
       "count     101       101\n",
       "unique      2         1\n",
       "top      male  negative\n",
       "freq       56       101"
      ]
     },
     "execution_count": 40,
     "metadata": {},
     "output_type": "execute_result"
    }
   ],
   "source": [
    "Bld_suger2=negative_result.loc[(negative_result[\"Blood sugar\"]>200)]\n",
    "Bld_suger2.describe(include='O')"
   ]
  },
  {
   "cell_type": "code",
   "execution_count": 42,
   "id": "45405b21-71c3-47e6-ac09-312d7a087312",
   "metadata": {},
   "outputs": [
    {
     "data": {
      "image/png": "[encoded data removed]",
      "text/plain": [
       "<Figure size 1400x600 with 2 Axes>"
      ]
     },
     "metadata": {},
     "output_type": "display_data"
    }
   ],
   "source": [
    "plt.figure(figsize=(14,6))\n",
    "plt.subplot(1,2,1)\n",
    "sns.countplot(data=Bld_suger1, x='Gender')\n",
    "plt.title(\"Gender Distribution (Blood Sugar > 200 & Positive Diagnosis)\")\n",
    "plt.xlabel(\"Gender\")\n",
    "plt.ylabel(\"Number of Patients\")\n",
    "\n",
    "plt.subplot(1,2,2)\n",
    "sns.countplot(data=Bld_suger2, x='Gender')\n",
    "plt.title(\"Gender Distribution (Blood Sugar > 200 & Nagative Diagnosis)\")\n",
    "plt.xlabel(\"Gender\")\n",
    "plt.ylabel(\"Number of Patients\")\n",
    "plt.show()"
   ]
  },
  {
   "cell_type": "markdown",
   "id": "a0ff6ca1-2233-425d-a7d0-416f316d7348",
   "metadata": {},
   "source": [
    "# 15. Checking Creatine  kinase-MB positive people and for Negative people"
   ]
  },
  {
   "cell_type": "code",
   "execution_count": 36,
   "id": "4fcad976-6f41-4efd-8c96-5976f725fffe",
   "metadata": {},
   "outputs": [
    {
     "data": {
      "text/html": [
       "<div>\n",
       "<style scoped>\n",
       "    .dataframe tbody tr th:only-of-type {\n",
       "        vertical-align: middle;\n",
       "    }\n",
       "\n",
       "    .dataframe tbody tr th {\n",
       "        vertical-align: top;\n",
       "    }\n",
       "\n",
       "    .dataframe thead th {\n",
       "        text-align: right;\n",
       "    }\n",
       "</style>\n",
       "<table border=\"1\" class=\"dataframe\">\n",
       "  <thead>\n",
       "    <tr style=\"text-align: right;\">\n",
       "      <th></th>\n",
       "      <th>Gender</th>\n",
       "      <th>Result</th>\n",
       "    </tr>\n",
       "  </thead>\n",
       "  <tbody>\n",
       "    <tr>\n",
       "      <th>count</th>\n",
       "      <td>350</td>\n",
       "      <td>350</td>\n",
       "    </tr>\n",
       "    <tr>\n",
       "      <th>unique</th>\n",
       "      <td>2</td>\n",
       "      <td>1</td>\n",
       "    </tr>\n",
       "    <tr>\n",
       "      <th>top</th>\n",
       "      <td>male</td>\n",
       "      <td>positive</td>\n",
       "    </tr>\n",
       "    <tr>\n",
       "      <th>freq</th>\n",
       "      <td>235</td>\n",
       "      <td>350</td>\n",
       "    </tr>\n",
       "  </tbody>\n",
       "</table>\n",
       "</div>"
      ],
      "text/plain": [
       "       Gender    Result\n",
       "count     350       350\n",
       "unique      2         1\n",
       "top      male  positive\n",
       "freq      235       350"
      ]
     },
     "execution_count": 36,
     "metadata": {},
     "output_type": "execute_result"
    }
   ],
   "source": [
    "CK1=positive_result.loc[(positive_result[\"CK-MB\"]>5)]\n",
    "CK1.describe(include='O')"
   ]
  },
  {
   "cell_type": "code",
   "execution_count": 37,
   "id": "de51b433-126a-4203-9310-6e78ba592ecc",
   "metadata": {},
   "outputs": [
    {
     "data": {
      "text/html": [
       "<div>\n",
       "<style scoped>\n",
       "    .dataframe tbody tr th:only-of-type {\n",
       "        vertical-align: middle;\n",
       "    }\n",
       "\n",
       "    .dataframe tbody tr th {\n",
       "        vertical-align: top;\n",
       "    }\n",
       "\n",
       "    .dataframe thead th {\n",
       "        text-align: right;\n",
       "    }\n",
       "</style>\n",
       "<table border=\"1\" class=\"dataframe\">\n",
       "  <thead>\n",
       "    <tr style=\"text-align: right;\">\n",
       "      <th></th>\n",
       "      <th>Gender</th>\n",
       "      <th>Result</th>\n",
       "    </tr>\n",
       "  </thead>\n",
       "  <tbody>\n",
       "    <tr>\n",
       "      <th>count</th>\n",
       "      <td>29</td>\n",
       "      <td>29</td>\n",
       "    </tr>\n",
       "    <tr>\n",
       "      <th>unique</th>\n",
       "      <td>2</td>\n",
       "      <td>1</td>\n",
       "    </tr>\n",
       "    <tr>\n",
       "      <th>top</th>\n",
       "      <td>male</td>\n",
       "      <td>negative</td>\n",
       "    </tr>\n",
       "    <tr>\n",
       "      <th>freq</th>\n",
       "      <td>21</td>\n",
       "      <td>29</td>\n",
       "    </tr>\n",
       "  </tbody>\n",
       "</table>\n",
       "</div>"
      ],
      "text/plain": [
       "       Gender    Result\n",
       "count      29        29\n",
       "unique      2         1\n",
       "top      male  negative\n",
       "freq       21        29"
      ]
     },
     "execution_count": 37,
     "metadata": {},
     "output_type": "execute_result"
    }
   ],
   "source": [
    "CK2=negative_result.loc[(negative_result[\"CK-MB\"]>5)]\n",
    "CK2.describe(include='O')"
   ]
  },
  {
   "cell_type": "code",
   "execution_count": 38,
   "id": "071d604b-fcc1-4b7f-91a8-b114033ae8aa",
   "metadata": {},
   "outputs": [
    {
     "data": {
      "image/png": "[encoded data removed]",
      "text/plain": [
       "<Figure size 1400x600 with 2 Axes>"
      ]
     },
     "metadata": {},
     "output_type": "display_data"
    }
   ],
   "source": [
    "plt.figure(figsize=(14,6))\n",
    "plt.subplot(1,2,1)\n",
    "sns.countplot(data=CK1, x='Gender')\n",
    "plt.title(\"Gender Distribution (CK-MB > 5 & Positive Diagnosis)\")\n",
    "plt.xlabel(\"Gender\")\n",
    "plt.ylabel(\"Number of Patients\")\n",
    "plt.tight_layout()\n",
    "\n",
    "\n",
    "plt.subplot(1,2,2)\n",
    "sns.countplot(data=CK2, x='Gender')\n",
    "plt.title(\"Gender Distribution (CK-MB <= 5 & Negative Diagnosis)\")\n",
    "plt.xlabel(\"Gender\")\n",
    "plt.ylabel(\"Number of Patients\")\n",
    "plt.tight_layout()\n",
    "plt.show()"
   ]
  },
  {
   "cell_type": "markdown",
   "id": "e06ebbd7-0ae3-44fc-ad49-24534c5b42de",
   "metadata": {},
   "source": [
    "# 16. Checking Troponin positive people and for Negative people"
   ]
  },
  {
   "cell_type": "code",
   "execution_count": 33,
   "id": "b3f0b4ce-b233-421a-9f83-ca0ea5331e80",
   "metadata": {},
   "outputs": [
    {
     "data": {
      "text/html": [
       "<div>\n",
       "<style scoped>\n",
       "    .dataframe tbody tr th:only-of-type {\n",
       "        vertical-align: middle;\n",
       "    }\n",
       "\n",
       "    .dataframe tbody tr th {\n",
       "        vertical-align: top;\n",
       "    }\n",
       "\n",
       "    .dataframe thead th {\n",
       "        text-align: right;\n",
       "    }\n",
       "</style>\n",
       "<table border=\"1\" class=\"dataframe\">\n",
       "  <thead>\n",
       "    <tr style=\"text-align: right;\">\n",
       "      <th></th>\n",
       "      <th>Gender</th>\n",
       "      <th>Result</th>\n",
       "    </tr>\n",
       "  </thead>\n",
       "  <tbody>\n",
       "    <tr>\n",
       "      <th>count</th>\n",
       "      <td>422</td>\n",
       "      <td>422</td>\n",
       "    </tr>\n",
       "    <tr>\n",
       "      <th>unique</th>\n",
       "      <td>2</td>\n",
       "      <td>1</td>\n",
       "    </tr>\n",
       "    <tr>\n",
       "      <th>top</th>\n",
       "      <td>male</td>\n",
       "      <td>positive</td>\n",
       "    </tr>\n",
       "    <tr>\n",
       "      <th>freq</th>\n",
       "      <td>284</td>\n",
       "      <td>422</td>\n",
       "    </tr>\n",
       "  </tbody>\n",
       "</table>\n",
       "</div>"
      ],
      "text/plain": [
       "       Gender    Result\n",
       "count     422       422\n",
       "unique      2         1\n",
       "top      male  positive\n",
       "freq      284       422"
      ]
     },
     "execution_count": 33,
     "metadata": {},
     "output_type": "execute_result"
    }
   ],
   "source": [
    "Trop1=positive_result.loc[(positive_result[\"Troponin\"]>0.04)]\n",
    "Trop1.describe(include='O')"
   ]
  },
  {
   "cell_type": "code",
   "execution_count": 34,
   "id": "1cc88109-c266-4e8d-9465-68446c5c0d52",
   "metadata": {},
   "outputs": [
    {
     "data": {
      "text/html": [
       "<div>\n",
       "<style scoped>\n",
       "    .dataframe tbody tr th:only-of-type {\n",
       "        vertical-align: middle;\n",
       "    }\n",
       "\n",
       "    .dataframe tbody tr th {\n",
       "        vertical-align: top;\n",
       "    }\n",
       "\n",
       "    .dataframe thead th {\n",
       "        text-align: right;\n",
       "    }\n",
       "</style>\n",
       "<table border=\"1\" class=\"dataframe\">\n",
       "  <thead>\n",
       "    <tr style=\"text-align: right;\">\n",
       "      <th></th>\n",
       "      <th>Gender</th>\n",
       "      <th>Result</th>\n",
       "    </tr>\n",
       "  </thead>\n",
       "  <tbody>\n",
       "    <tr>\n",
       "      <th>count</th>\n",
       "      <td>2</td>\n",
       "      <td>2</td>\n",
       "    </tr>\n",
       "    <tr>\n",
       "      <th>unique</th>\n",
       "      <td>1</td>\n",
       "      <td>1</td>\n",
       "    </tr>\n",
       "    <tr>\n",
       "      <th>top</th>\n",
       "      <td>male</td>\n",
       "      <td>negative</td>\n",
       "    </tr>\n",
       "    <tr>\n",
       "      <th>freq</th>\n",
       "      <td>2</td>\n",
       "      <td>2</td>\n",
       "    </tr>\n",
       "  </tbody>\n",
       "</table>\n",
       "</div>"
      ],
      "text/plain": [
       "       Gender    Result\n",
       "count       2         2\n",
       "unique      1         1\n",
       "top      male  negative\n",
       "freq        2         2"
      ]
     },
     "execution_count": 34,
     "metadata": {},
     "output_type": "execute_result"
    }
   ],
   "source": [
    "Trop2=negative_result.loc[(negative_result[\"Troponin\"]>0.04)]\n",
    "Trop2.describe(include='O')"
   ]
  },
  {
   "cell_type": "code",
   "execution_count": 35,
   "id": "7ac1296a-4006-42c2-9954-f72da0120302",
   "metadata": {},
   "outputs": [
    {
     "data": {
      "image/png": "[encoded data removed]",
      "text/plain": [
       "<Figure size 800x600 with 1 Axes>"
      ]
     },
     "metadata": {},
     "output_type": "display_data"
    }
   ],
   "source": [
    "Trop1 = Trop1.copy()\n",
    "Trop1['Group'] = 'Positive'\n",
    "\n",
    "Trop2 = Trop2.copy()\n",
    "Trop2['Group'] = 'Negative'\n",
    "\n",
    "combined = pd.concat([Trop1, Trop2])\n",
    "\n",
    "plt.figure(figsize=(8,6))\n",
    "sns.boxplot(x='Group', y='Age', data=combined)\n",
    "plt.title('Age Distribution')\n",
    "plt.show()"
   ]
  },
  {
   "cell_type": "code",
   "execution_count": null,
   "id": "61958cb4-c06e-40b3-93ab-10f08634a33a",
   "metadata": {},
   "outputs": [],
   "source": []
  }
 ],
 "metadata": {
  "kernelspec": {
   "display_name": "Python [conda env:base] *",
   "language": "python",
   "name": "conda-base-py"
  },
  "language_info": {
   "codemirror_mode": {
    "name": "ipython",
    "version": 3
   },
   "file_extension": ".py",
   "mimetype": "text/x-python",
   "name": "python",
   "nbconvert_exporter": "python",
   "pygments_lexer": "ipython3",
   "version": "3.12.7"
  }
 },
 "nbformat": 4,
 "nbformat_minor": 5
}
